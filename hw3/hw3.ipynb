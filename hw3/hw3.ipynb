{
 "cells": [
  {
   "cell_type": "markdown",
   "metadata": {
    "id": "KkqdwZcO97qw"
   },
   "source": [
    "# Exercise 3: Probability and Bayesian Learning\n",
    "\n",
    "\n",
    "### Make sure that you read and fully understand all the guidelines listed below before you proceed with the exercise.\n",
    "\n",
    "* HW assignments are a significant part of the learning experience in this course and contribute 50% to your final grade. So, make sure to devote the appropriate time to them.\n",
    "* **Sharing solutions with someone who is not your submitting partner is strictly prohibited**. This includes reading someone else's code or sharing your code / posting it somewhere.\n",
    "* Appeals regarding submissions that do not follow the guidelines will not be accepted. \n",
    "\n",
    "## Read the following instructions carefully:\n",
    "\n",
    "### Guidelines for Programming Exercises:\n",
    "\n",
    "* Complete the required functions in `hw3.py`. Any modifications to this notebook will not be tested by our automated tests.\n",
    "* Write **efficient**, **vectorized** code whenever possible. Some calculations in this exercise can take several minutes when implemented efficiently, but will take much longer otherwise. Unnecessary loops will result in point deductions.\n",
    "* You are responsible for the correctness of your code. You can add tests to this jupyter notebook to validate your solution. The contents of this jupyter notebook will not be graded or checked.\n",
    "* You are allowed to use functions and methods from the [Python Standard Library](https://docs.python.org/3/library/), numpy and pandas only. **Do not import anything else.**\n",
    "* Use `numpy` version 1.15.4 or higher.\n",
    "* Your code must run without errors. Code that cannot run will not be graded.\n",
    "* Your code will be tested using automated scripts. So, failure to follow the instructions may lead to test failure, which might significantly affect your grade. \n",
    "\n",
    "\n",
    "### Guidlines for Theoretical Exercises\n",
    "* Your solution should be written or typed and submitted in a separate file `hw3.pdf`.\n",
    "* If you scan a handwritten solution, make sure that your handwriting is legible and the scan quality is good.\n",
    "* You are expected to solve the questions analytically and provide a step-by-step solution. \n",
    "* It is okay and often recommended to use python to carry out the computations. \n",
    "* You may use the lecture slides and previous homework assignments as references, unless explicitly asked to prove a result from class. \n",
    "\n",
    "### Submission Guidelines:\n",
    "* Submit your solutiuon in a zip file that contains: \n",
    "  - The `hw3.py` script with your solution to the progamming exercise\n",
    "  - This notebook with your added tests (this is not checked or graded)\n",
    "  - The `hw3.pdf` file with your solution to the theoretical exercises.\n",
    "  \n",
    "* The name of the zip file should contain your ID(s). For example, `hw3_123456789_987654321.zip` if you submitted in pairs and `hw3_123456789.zip` if you submitted the exercise alone.\n",
    "* Please use **only a zip** file in your submission.\n",
    "\n",
    "---\n",
    "---\n",
    "\n",
    "## Please sign that you have read and understood the instructions: \n",
    "\n",
    "### *** YOUR ID HERE ***\n",
    "\n",
    "---\n",
    "---"
   ]
  },
  {
   "cell_type": "markdown",
   "metadata": {},
   "source": [
    "# Part 1: Theoretical Exercise (16 points)\n",
    "## Maximum Likelihood Estimation and Confidence Intervals\n",
    "\n",
    "The Poisson distribution is a discrete porbability distribution over the non-negative integers with a single parameter $\\lambda>0$ and PMF:\n",
    "$$\n",
    "\\Pr[X=k] = \\frac{\\lambda^k e^{-\\lambda}}{k!}\n",
    "$$\n",
    "This distribution is useful in modeling the number of event occurrences in a fixed time interval when the probability of an event occurrence  does not depend on the time since the last event. The parameter of this distribution, $\\lambda$, is the expected number of events in one time interval. As a result, the expectation and variance of a $\\mathrm{Pois}(\\lambda)$ random variable are both $\\lambda$.\n"
   ]
  },
  {
   "cell_type": "markdown",
   "metadata": {},
   "source": [
    "Suppose that you have a set of samples $D = \\{x_1,\\ldots,x_n\\}$.\n",
    "We propose a probability model in which these samples are taken from  $X_1,\\ldots,X_n$, which are independent $\\mathrm{Pois}(\\lambda)$ random variables.\n",
    "\n",
    "1. Write the **log-likelihood** function of $\\lambda$ under $D$. Use natural log here (base $e$).\n",
    "2. Use the **log-likelihood** function you derived above to find an expression for the maximum likelihood estimator (MLE) $\\hat{\\lambda}$ of $\\lambda$.\n",
    "\n",
    "\n",
    "We now wish to find an expression for an intervalcontaining $\\lambda$ with probability at least $0.95$ under the model we proposed. Namely, a $95\\%$ confidence interval (CI) for $\\lambda$  (around the estimated $\\hat\\lambda$) .\n",
    "\n",
    "3. Consider $\\hat{\\lambda}$ as a random variable whose randomness stems from the randomness in $X_1,\\ldots,X_n$.\n",
    "Write an expression for the mean $\\mathbb E[\\hat{\\lambda}]$ and the variance $\\mathrm{Var}[\\hat{\\lambda}]$ as a function of $n$ and $\\lambda$.\n",
    "\n",
    "4. Assume that your estimator $\\hat{\\lambda}$ is asymptotically normal, meaning that its **standardized** value apporaches a normal distribution as the number of data points goes to infinity:\n",
    "$$\n",
    "\\begin{align}\n",
    "\\frac{\\hat{\\lambda} - \\mathbb E[\\hat{\\lambda}]}{\\sqrt{\\mathrm{Var}[\\hat{\\lambda}]}} \\sim \\mathcal N(0,1). \n",
    "\\end{align}\n",
    "$$\n",
    "$~~~~~~$ (Note: this is implied by the central limit theorem.)\n",
    "\n",
    "$~~~~~~$ Under this assumption, write expressions for the lower and upper boundaries of the 95% confidence interval for $\\lambda$ around the estimated $\\hat\\lambda$. Your two expressions should be specified as functions of $\\hat\\lambda$, $n$, and the inverse Gaussian CDF $\\Phi^{-1}(p)$. "
   ]
  },
  {
   "cell_type": "markdown",
   "metadata": {},
   "source": [
    "# Part 2: Coding Assignment (84 points)"
   ]
  },
  {
   "cell_type": "code",
   "metadata": {
    "ExecuteTime": {
     "end_time": "2025-05-17T10:21:25.931447Z",
     "start_time": "2025-05-17T10:21:24.896678Z"
    }
   },
   "source": [
    "import numpy as np\n",
    "import pandas as pd\n",
    "import matplotlib.pyplot as plt\n",
    "# make the notebook automatically reload external python modules\n",
    "%load_ext autoreload\n",
    "%autoreload 2"
   ],
   "outputs": [],
   "execution_count": 1
  },
  {
   "cell_type": "markdown",
   "metadata": {},
   "source": [
    "## 1. A Poisson Model For The Number of Goals in a Football Match (12 points)\n",
    "\n",
    "In this question, we will model the number of goals in UFEA Champions League games season 2015-6 using the Poisson distributon. We start by reading the data file and doing some basic preprocessing."
   ]
  },
  {
   "cell_type": "code",
   "metadata": {
    "ExecuteTime": {
     "end_time": "2025-05-17T10:21:26.812049Z",
     "start_time": "2025-05-17T10:21:26.781775Z"
    }
   },
   "source": [
    "# Loads UEFA Champions League match data from the 2015-2016 season:\n",
    "df_champs = pd.read_csv(\"data/champs_2015-6.csv\")\n",
    "# add total goals in match data by parsing the FT (Full Time score) column:\n",
    "df_champs['totalGoals'] = df_champs['FT'].str.extract(\"([0-9]+)-\").astype(int) + df_champs['FT'].str.extract(\"-([0-9]+)\").astype(int)\n",
    "\n",
    "# present the first 5 rows of the dataframe with relevant columns:\n",
    "df_champs.filter(items=['Team 1', 'Team 2', 'Date', 'FT', 'totalGoals']).head()"
   ],
   "outputs": [
    {
     "data": {
      "text/plain": [
       "                       Team 1                                  Team 2  \\\n",
       "0         Crusaders › NIR (1)                       Levadia › EST (1)   \n",
       "1  Lincoln Red Imps › GIB (1)               FC Santa Coloma › AND (1)   \n",
       "2            Pyunik › ARM (1)  S.S. Folgore Falciano Calcio › SMR (1)   \n",
       "3      B36 Torshavn › FRO (1)                The New Saints › WAL (1)   \n",
       "4           Levadia › EST (2)                     Crusaders › NIR (2)   \n",
       "\n",
       "                      Date   FT  totalGoals  \n",
       "0  (Tue) 30 Jun 2015 (W26)  0-0           0  \n",
       "1  (Tue) 30 Jun 2015 (W26)  0-0           0  \n",
       "2  (Tue) 30 Jun 2015 (W26)  2-1           3  \n",
       "3   (Wed) 1 Jul 2015 (W26)  1-2           3  \n",
       "4   (Tue) 7 Jul 2015 (W27)  1-1           2  "
      ],
      "text/html": [
       "<div>\n",
       "<style scoped>\n",
       "    .dataframe tbody tr th:only-of-type {\n",
       "        vertical-align: middle;\n",
       "    }\n",
       "\n",
       "    .dataframe tbody tr th {\n",
       "        vertical-align: top;\n",
       "    }\n",
       "\n",
       "    .dataframe thead th {\n",
       "        text-align: right;\n",
       "    }\n",
       "</style>\n",
       "<table border=\"1\" class=\"dataframe\">\n",
       "  <thead>\n",
       "    <tr style=\"text-align: right;\">\n",
       "      <th></th>\n",
       "      <th>Team 1</th>\n",
       "      <th>Team 2</th>\n",
       "      <th>Date</th>\n",
       "      <th>FT</th>\n",
       "      <th>totalGoals</th>\n",
       "    </tr>\n",
       "  </thead>\n",
       "  <tbody>\n",
       "    <tr>\n",
       "      <th>0</th>\n",
       "      <td>Crusaders › NIR (1)</td>\n",
       "      <td>Levadia › EST (1)</td>\n",
       "      <td>(Tue) 30 Jun 2015 (W26)</td>\n",
       "      <td>0-0</td>\n",
       "      <td>0</td>\n",
       "    </tr>\n",
       "    <tr>\n",
       "      <th>1</th>\n",
       "      <td>Lincoln Red Imps › GIB (1)</td>\n",
       "      <td>FC Santa Coloma › AND (1)</td>\n",
       "      <td>(Tue) 30 Jun 2015 (W26)</td>\n",
       "      <td>0-0</td>\n",
       "      <td>0</td>\n",
       "    </tr>\n",
       "    <tr>\n",
       "      <th>2</th>\n",
       "      <td>Pyunik › ARM (1)</td>\n",
       "      <td>S.S. Folgore Falciano Calcio › SMR (1)</td>\n",
       "      <td>(Tue) 30 Jun 2015 (W26)</td>\n",
       "      <td>2-1</td>\n",
       "      <td>3</td>\n",
       "    </tr>\n",
       "    <tr>\n",
       "      <th>3</th>\n",
       "      <td>B36 Torshavn › FRO (1)</td>\n",
       "      <td>The New Saints › WAL (1)</td>\n",
       "      <td>(Wed) 1 Jul 2015 (W26)</td>\n",
       "      <td>1-2</td>\n",
       "      <td>3</td>\n",
       "    </tr>\n",
       "    <tr>\n",
       "      <th>4</th>\n",
       "      <td>Levadia › EST (2)</td>\n",
       "      <td>Crusaders › NIR (2)</td>\n",
       "      <td>(Tue) 7 Jul 2015 (W27)</td>\n",
       "      <td>1-1</td>\n",
       "      <td>2</td>\n",
       "    </tr>\n",
       "  </tbody>\n",
       "</table>\n",
       "</div>"
      ]
     },
     "execution_count": 2,
     "metadata": {},
     "output_type": "execute_result"
    }
   ],
   "execution_count": 2
  },
  {
   "cell_type": "markdown",
   "metadata": {},
   "source": [
    "We now plot a histogram of the total number of goals per match."
   ]
  },
  {
   "cell_type": "code",
   "metadata": {
    "ExecuteTime": {
     "end_time": "2025-05-17T10:21:28.767240Z",
     "start_time": "2025-05-17T10:21:28.604664Z"
    }
   },
   "source": [
    "# plot the histogram of goals per match:\n",
    "max_goals = df_champs['totalGoals'].max()\n",
    "plt.figure(figsize=(7,3))\n",
    "plt.hist(df_champs['totalGoals'], bins = np.arange(0, max_goals + 1 ,1), width=0.8, density=True)\n",
    "plt.xlabel('Goals')\n",
    "plt.ylabel('Proportion of Matches with x Goals')\n",
    "plt.title(\"Histogram of Goals per Match\")\n",
    "plt.show()"
   ],
   "outputs": [
    {
     "data": {
      "text/plain": [
       "<Figure size 700x300 with 1 Axes>"
      ],
      "image/png": "[encoded data removed]"
     },
     "metadata": {},
     "output_type": "display_data"
    }
   ],
   "execution_count": 3
  },
  {
   "cell_type": "markdown",
   "metadata": {},
   "source": [
    "### Log of Point Mass (3 points)\n",
    "\n",
    "Implement the function `poisson_log_pmf` in `hw3.py`.\n",
    "\n",
    "This function computes the (natural) log of the PMF of a Poisson distribution with a given rate ($\\lambda$) for a given event count ($k$)."
   ]
  },
  {
   "cell_type": "code",
   "metadata": {
    "ExecuteTime": {
     "end_time": "2025-05-17T10:21:30.324946Z",
     "start_time": "2025-05-17T10:21:30.308029Z"
    }
   },
   "source": [
    "from hw3 import poisson_log_pmf\n",
    "from hw3 import possion_confidence_interval\n",
    "from hw3 import get_poisson_log_likelihoods"
   ],
   "outputs": [],
   "execution_count": 4
  },
  {
   "cell_type": "markdown",
   "metadata": {},
   "source": [
    "### Poisson MLE (3 points)\n",
    "\n",
    "Implement the function `possion_analytic_mle` in `hw3.py`.\n",
    "\n",
    "This function computes the MLE for the Poisson rate parameter using the expression you derived for $\\hat\\lambda$ in question (2) of the theoretical exercise above.\n",
    "\n"
   ]
  },
  {
   "cell_type": "code",
   "metadata": {
    "ExecuteTime": {
     "end_time": "2025-05-17T10:21:31.935624Z",
     "start_time": "2025-05-17T10:21:31.919419Z"
    }
   },
   "source": [
    "X = df_champs['totalGoals'].values.flatten()\n",
    "from hw3 import (possion_analytic_mle)\n",
    "lambda_mle = possion_analytic_mle(X)"
   ],
   "outputs": [],
   "execution_count": 5
  },
  {
   "cell_type": "markdown",
   "metadata": {},
   "source": [
    "### Confidence Interval (3 points)\n",
    "\n",
    "Implement the function `possion_confidence_interval` in `hw3.py`.\n",
    "\n",
    "This function computes a $(1-\\alpha)$ confidence interval around an estimated $\\hat\\lambda$ using the expression you derived in question (4) of the theoretical exercise above. You may use the function `norm.ppf` from library `scipy.stats` to compute the inverse of the standard normal CDF function ($\\Phi^{-1}$)."
   ]
  },
  {
   "cell_type": "code",
   "metadata": {
    "ExecuteTime": {
     "end_time": "2025-05-17T10:21:34.090623Z",
     "start_time": "2025-05-17T10:21:33.440437Z"
    }
   },
   "source": [
    "[lower_bound005, upper_bound005] = possion_confidence_interval(lambda_mle,X.shape[0], alpha=0.05)\n",
    "[lower_bound001, upper_bound001] = possion_confidence_interval(lambda_mle,X.shape[0], alpha=0.01)\n",
    "\n",
    "print(f\"95% CI for lambda: ({lower_bound005}, {upper_bound005})\")\n",
    "print(f\"99% CI for lambda: ({upper_bound001}, {upper_bound001})\")"
   ],
   "outputs": [
    {
     "name": "stdout",
     "output_type": "stream",
     "text": [
      "95% CI for lambda: (2.477395371141786, 2.914309697982638)\n",
      "99% CI for lambda: (2.9829539137442156, 2.9829539137442156)\n"
     ]
    }
   ],
   "execution_count": 6
  },
  {
   "cell_type": "markdown",
   "metadata": {},
   "source": [
    "### Log Likelihood (3 points)\n",
    "\n",
    "Implement the function `get_poisson_log_likelihoods` in `hw3.py`.\n",
    "\n",
    "This function computes the log likelihoods of a list of rate values ($\\lambda$) given a dataset $X$. Below, we use this function to validate that the MLE you got above indeed corresponds to the maximum log likelihood."
   ]
  },
  {
   "cell_type": "code",
   "metadata": {
    "ExecuteTime": {
     "end_time": "2025-05-17T10:21:42.681129Z",
     "start_time": "2025-05-17T10:21:42.564531Z"
    }
   },
   "source": [
    "from hw3 import (get_poisson_log_likelihoods)\n",
    "potential_rates = np.linspace(0.01, 20, num=1000)\n",
    "\n",
    "plt.figure(figsize=(6,4))\n",
    "plt.plot(potential_rates, get_poisson_log_likelihoods(X, potential_rates))\n",
    "plt.axvline(x=lambda_mle, linestyle='--', c='g', label=f\"MLE: {lambda_mle:.2f}\")\n",
    "plt.legend()\n",
    "plt.show()"
   ],
   "outputs": [
    {
     "data": {
      "text/plain": [
       "<Figure size 600x400 with 1 Axes>"
      ],
      "image/png": "[encoded data removed]"
     },
     "metadata": {},
     "output_type": "display_data"
    }
   ],
   "execution_count": 7
  },
  {
   "cell_type": "markdown",
   "metadata": {},
   "source": [
    "The code below computes the PMF of a Poisson distribution with the rate you received as MLE and it then compares this PMF to the histogram of goals per game in the dataset. This comparison allows you to visually assess the fit of the (best fit) Poisson model to the data."
   ]
  },
  {
   "cell_type": "code",
   "metadata": {
    "ExecuteTime": {
     "end_time": "2025-05-17T10:28:04.691110Z",
     "start_time": "2025-05-17T10:28:04.529293Z"
    }
   },
   "source": [
    "k_vals = np.arange(0, max_goals+1,1)\n",
    "poisson_pmf = np.exp(poisson_log_pmf(k_vals, lambda_mle))\n",
    "\n",
    "# align the histogram to the center of the bins:\n",
    "plt.figure(figsize=(7,3))\n",
    "plt.hist(X, bins=k_vals-0.5, density=True, align='mid', width=0.95, label='Goals Histogram', alpha=0.5)\n",
    "\n",
    "plt.bar(k_vals, poisson_pmf, label='Poisson PMF', color='red', width=0.95, alpha=0.5)\n",
    "plt.legend()\n",
    "\n",
    "plt.title(rf\"Histogram of Goals per Match and Poisson PMF with $\\lambda=${lambda_mle:.2f}\")\n",
    "plt.ylabel('Frequency')\n",
    "plt.xlabel('Goals')\n",
    "plt.show()\n"
   ],
   "outputs": [
    {
     "data": {
      "text/plain": [
       "<Figure size 700x300 with 1 Axes>"
      ],
      "image/png": "[encoded data removed]"
     },
     "metadata": {},
     "output_type": "display_data"
    }
   ],
   "execution_count": 10
  },
  {
   "cell_type": "markdown",
   "metadata": {},
   "source": [
    "**Food for thought:** It is rare to see more than eight goals per match. In fact, it did not happened in the 2015-6 season of the UEFA Champions League. Can you provide an estimate to the probability that more than eight goals ($\\geq 9$) would be scored in one game based on the model you fit to your data?"
   ]
  },
  {
   "cell_type": "markdown",
   "metadata": {},
   "source": [
    "## 2. Conditional independence  (8 points)\n",
    "\n",
    "Consider the following requirements for the binary random variables $X, Y$ and $C$:  \n",
    "1. The marginal probabilities of the three variables are specified as follows:  \n",
    "    * $\\Pr[X=0] = 0.3 ~~ ; ~~  \\Pr[X=1] = 0.7$\n",
    "    * $\\Pr[Y=0] = 0.3 ~~ ; ~~  \\Pr[Y=1] = 0.7$\n",
    "    * $\\Pr[C=0] = 0.5 ~~ ; ~~  \\Pr[C=1] = 0.5$\n",
    "2. $X$ and $Y$ are not (marginally) independent\n",
    "3. $X$ and $Y$ are conditionaly independent given $C$: $~~X \\perp\\!\\!\\!\\perp Y\\ |\\ C$\n",
    "\n",
    "Rcall that $X$ and $Y$ are conditionaly independent given $C$ if and only if for all $x,y,c$ we have:\n",
    "$$\n",
    "Pr[X=x,Y=y|C=c] ~=~ Pr[Y=y|C=c]\\ Pr[Y=y|C=c]\n",
    "$$\n",
    "\n",
    "Note that $Pr[X=x|C=c]=\\frac{Pr[X=x,C=c]}{Pr[C=c]}$, and similarly for the other conditional probabilities.\n",
    "\n",
    "Define a joint probability distribution for $X, Y$ and $C$ that satisfies these conditions.\n",
    "This should be done by setting the appropriate values in the python dictionaries in class `conditional_independence` in `hw3.py`.\n",
    "You should make sure that all the probabilities are valid, meaning that they are non-negative, sum to one,\n",
    "and that all dictionaries are consistent with one another.\n",
    "\n",
    "After you do this, implement the member functions `is_X_Y_depndendent` `is_X_Y_given_C_independent` to confirm that requirements (2) and (3) above are satisfied."
   ]
  },
  {
   "cell_type": "code",
   "execution_count": null,
   "metadata": {},
   "outputs": [
    {
     "name": "stdout",
     "output_type": "stream",
     "text": [
      "None\n",
      "None\n"
     ]
    }
   ],
   "source": [
    "from hw3 import conditional_independence\n",
    "\n",
    "print(conditional_independence().is_X_Y_dependent())\n",
    "print(conditional_independence().is_X_Y_given_C_independent())"
   ]
  },
  {
   "cell_type": "markdown",
   "metadata": {
    "id": "kL1Y_nmu97q9"
   },
   "source": [
    "\n",
    "## 3. A Normal Naive Bayes Classifier (24 points)"
   ]
  },
  {
   "cell_type": "markdown",
   "metadata": {
    "id": "O4Trl8uU97q-"
   },
   "source": [
    "### The Randomammal Data"
   ]
  },
  {
   "cell_type": "markdown",
   "metadata": {
    "id": "5Z8oRyIG97rA"
   },
   "source": [
    "In a faraway land called **Randomistan** there is a rare animal called the **Randomammal**. Scientists in Randomistan observed the randomammals' habitat for 1000 days to try to determine the conditions under which randomammals are active (or not). For each of the 1000 days, the scientists recorded the temperature and the humidity in Randomistan and whether a randomammal was spotted or not.\n",
    "Thus, our dataset contains two features (**Temperature**, **Humidity**) alongside a binary class label (**Spotted**) for each of the 1000 days in the study.\n",
    "\n",
    "Let's start off by loading the train and test data into a pandas dataframe and converting them\n",
    "into numpy arrays. We then visualize the training data using a scatterplot where *x*=Temperature, *y*=Humidity and the class label is represented by color."
   ]
  },
  {
   "cell_type": "code",
   "execution_count": null,
   "metadata": {
    "id": "Wml9l2VJ97rB"
   },
   "outputs": [],
   "source": [
    "# Load the train and test set into a pandas dataframe and convert them into a numpy array.\n",
    "# The columns order: ['Temp', 'Humidity', 'Spotted']\n",
    "train_set = pd.read_csv('data/randomammal_train.csv').values\n",
    "test_set = pd.read_csv('data/randomammal_test.csv').values\n",
    "\n",
    "plt.scatter(x=train_set[:, 0], y=train_set[:, 1], c=train_set[:, 2])"
   ]
  },
  {
   "cell_type": "markdown",
   "metadata": {},
   "source": [
    "### Bob's Naive Bayes Model\n",
    "\n",
    "The well known randomian scientist **Bob** prefers simple solutions, so he wants to use a Naive Bayes classifier for this problem.\n",
    "Note that it is unlikely that temperature and humidity are independent, and conditioning on whether a randomammal was spotted or not\n",
    "on a given day should not make them conditionally independent. However, as we discussed in class, Naive Bayes classifiers can be effective even when the conditional independence assumption is not strictly satisfied. Recall that a Naive Bayes classifier for two features makes the following assumption: \n",
    "$$ \n",
    "f_{X|Y=y}(x_1,x_2) = f_{X_1|Y=y}(x_1)\\ f_{X_2|Y=y}(x_2)\n",
    "$$\n",
    "\n",
    "Bob wishes to fit each of the four feature-specific class conditionals, $f_{X_1|Y=0}, f_{X_2|Y=0}, f_{X_1|Y=1}$, and $f_{X_2|Y=1}$,\n",
    "using univariate normal distributions with different means ($\\mu$) and variances ($\\sigma^2$)."
   ]
  },
  {
   "cell_type": "markdown",
   "metadata": {},
   "source": [
    "### Univariate Normal PDF (4 points)\n",
    "\n",
    "Implement the function `normal_pdf` in `hw3.py`. \n",
    "\n",
    "This function computes the PDF of a univariate normal distribution with given mean and standard deviation at a given value ($x$) according to the expression:\n",
    "$$\n",
    "f(x;\\mu,\\sigma^2) = \\frac{1}{\\sqrt{2\\pi\\sigma^2}} \\cdot e ^{-\\frac{(x - \\mu)^2}{2\\sigma^2}}\n",
    "$$"
   ]
  },
  {
   "cell_type": "code",
   "execution_count": null,
   "metadata": {},
   "outputs": [],
   "source": [
    "from hw3 import normal_pdf"
   ]
  },
  {
   "cell_type": "markdown",
   "metadata": {
    "id": "zLQsBEja97rH"
   },
   "source": [
    "### The Class-specific Distributions (15 points)\n",
    "\n",
    "Implement the `NaiveNormalClassDistribution` class in `hw3.py`.\n",
    "\n",
    "The constructor of this class receives a dataset and a class label (0 or 1 in our case, but your code should accept any value).\n",
    "It then creates an object that can compute the joint probability of the specified class label with a given input ($x$).\n",
    "To do so, the constructor has to fit a separate normal distribution to each of the features in the data\n",
    "(our data has two features, but your code should not assume this).\n",
    "\n",
    "The class has three member functions, `get_prior`, `get_instance_likelihood`, and `get_instance_joint_prob`,\n",
    "which compute the various probabilities involved in classification of a given input sample. "
   ]
  },
  {
   "cell_type": "code",
   "execution_count": null,
   "metadata": {
    "id": "RDlv-Qu897rK"
   },
   "outputs": [],
   "source": [
    "from hw3 import NaiveNormalClassDistribution\n",
    "\n",
    "# Build the a NaiveNormalClassDistribution for each class label\n",
    "naive_normal_CD_0 = NaiveNormalClassDistribution(train_set, 0)\n",
    "naive_normal_CD_1 = NaiveNormalClassDistribution(train_set, 1)\n",
    "\n",
    "x_test = test_set[1, :-1]\n",
    "\n",
    "print(f\"Test point: {x_test} has joint probability {naive_normal_CD_0.get_instance_joint_prob(x_test):.4f} for class 0\")\n",
    "print(f\"Test point: {x_test} has joint probability {naive_normal_CD_1.get_instance_joint_prob(x_test):.4f} for class 1\")"
   ]
  },
  {
   "cell_type": "markdown",
   "metadata": {
    "id": "E3S8TaXg97rK"
   },
   "source": [
    "### The MAP Classifier (5 points)\n",
    "\n",
    "Implement the `MAPClassifier` class in `hw3.py`.\n",
    "\n",
    "This class holds a `ClassDistribution` object  (`NaiveNormal` here and `MultiNormal` later) for each class label (0 and 1).\n",
    "These objects are used to predict class labels ($y$) for input instances ($x$) using the maximum a-posteriori (MAP) rule. This class has a constructor and one member function `predict`."
   ]
  },
  {
   "cell_type": "code",
   "execution_count": null,
   "metadata": {},
   "outputs": [],
   "source": [
    "from hw3 import MAPClassifier\n",
    "naive_normal_classifier = MAPClassifier(naive_normal_CD_0, naive_normal_CD_1)\n",
    "\n",
    "print(f\"MAP Classifier predicts class {naive_normal_classifier.predict(x_test)} for test point {x_test}\")"
   ]
  },
  {
   "cell_type": "markdown",
   "metadata": {
    "id": "2_mGpmGM97rN"
   },
   "source": [
    "## 4. A Bivariate Normal Classifier (20 points)\n",
    "\n",
    "**Alice**, Bob's colleague, suspects that Bob's Naive Bayes classifier might underperform on the randomammal data. \n",
    "She proposes using a Bayes classifier that uses a (general) bivariate normal distribution for the class conditional distributions.\n",
    "This approach adds one parameter to each of the two class conditionals corresponding to the covariance between the two features (given the class label). Alice argues that there is sufficient data to support estimation of the two additional parameters without overfitting."
   ]
  },
  {
   "cell_type": "markdown",
   "metadata": {},
   "source": [
    "### Multivariate Normal PDF (5 points)\n",
    "\n",
    "Implement the function `multi_normal_pdf` in `hw3.py`. \n",
    "\n",
    "This function computes the PDF of a multivariate normal distribution with given mean vector ($\\mu\\in \\mathbb{R}^d$) and a covariance matrix ($\\Sigma\\in \\mathbb{R}^{d\\times d}$) at a given value ($x\\in \\mathbb{R}^d$) according to the following function:\n",
    "$$\n",
    "(2\\pi)^{-\\frac{d}{2}} \\mathrm{det}(\\Sigma )^{-\\frac{1}{2}} \\cdot e ^{-\\frac{1}{2}(x-\\mu)^T \\Sigma ^ {-1} (x - \\mu) }\n",
    "$$"
   ]
  },
  {
   "cell_type": "code",
   "execution_count": null,
   "metadata": {
    "id": "bZTlpgi7Ojal"
   },
   "outputs": [],
   "source": [
    "from hw3 import multi_normal_pdf"
   ]
  },
  {
   "cell_type": "markdown",
   "metadata": {
    "id": "oIo8Ji8Z97rN"
   },
   "source": [
    "### The Class-specific Distributions (15 points)\n",
    "\n",
    "Implement the `MultiNormalClassDistribution` class in `hw3.py`.\n",
    "\n",
    "This class is similar to the `NaiveNormalClassDistribution` class, in that its constructor receives a dataset and a class label,\n",
    "and it creates an object that can compute the joint probability of the specified class label with a given input ($x$).\n",
    "In this class, this is done by fitting a multi-variate normal distribution to all features jointly\n",
    "(our data has two features, but your code should not assume this).\n",
    "The covariance matrix should be estimated using the *sample covariance matrix* (see lecture slides).\n",
    "\n",
    "Similar to the `NaiveNormalClassDistribution` class, the class has three member functions,\n",
    "`get_prior`, `get_instance_likelihood`, and `get_instance_joint_prob`,\n",
    "which compute the various probabilities involved in classification of a given input sample.\n",
    "\n",
    "The code below fits bivariate normal distributions to each class label and then uses them to construct a MAP classifier object."
   ]
  },
  {
   "cell_type": "code",
   "execution_count": null,
   "metadata": {
    "id": "yRxCmrfI97rO"
   },
   "outputs": [
    {
     "ename": "NameError",
     "evalue": "name 'train_set' is not defined",
     "output_type": "error",
     "traceback": [
      "\u001B[0;31m---------------------------------------------------------------------------\u001B[0m",
      "\u001B[0;31mNameError\u001B[0m                                 Traceback (most recent call last)",
      "Cell \u001B[0;32mIn[53], line 4\u001B[0m\n\u001B[1;32m      1\u001B[0m \u001B[38;5;28;01mfrom\u001B[39;00m \u001B[38;5;21;01mhw3\u001B[39;00m \u001B[38;5;28;01mimport\u001B[39;00m MultiNormalClassDistribution\n\u001B[1;32m      3\u001B[0m \u001B[38;5;66;03m# Build the a MultiNormalClassDistribution for each class.\u001B[39;00m\n\u001B[0;32m----> 4\u001B[0m multi_normal_CD_0 \u001B[38;5;241m=\u001B[39m MultiNormalClassDistribution(\u001B[43mtrain_set\u001B[49m, \u001B[38;5;241m0\u001B[39m)\n\u001B[1;32m      5\u001B[0m multi_normal_CD_1 \u001B[38;5;241m=\u001B[39m MultiNormalClassDistribution(train_set, \u001B[38;5;241m1\u001B[39m)\n\u001B[1;32m      7\u001B[0m \u001B[38;5;66;03m# Use these distributions to build a MAPClassifier.\u001B[39;00m\n",
      "\u001B[0;31mNameError\u001B[0m: name 'train_set' is not defined"
     ]
    }
   ],
   "source": [
    "from hw3 import MultiNormalClassDistribution\n",
    "\n",
    "# Build the a MultiNormalClassDistribution for each class.\n",
    "multi_normal_CD_0 = MultiNormalClassDistribution(train_set, 0)\n",
    "multi_normal_CD_1 = MultiNormalClassDistribution(train_set, 1)\n",
    "\n",
    "# Use these distributions to build a MAPClassifier.\n",
    "multi_normal_classifier = MAPClassifier(multi_normal_CD_0, multi_normal_CD_1)\n",
    "\n",
    "print(f\"Test point: {x_test} has joint probability {multi_normal_CD_0.get_instance_joint_prob(x_test):.4f} for class 0\")\n",
    "print(f\"Test point: {x_test} has joint probability {multi_normal_CD_1.get_instance_joint_prob(x_test):.4f} for class 1\")\n",
    "print(f\"MAP Classifier predicts class {multi_normal_classifier.predict(x_test)} for test point {x_test}\")"
   ]
  },
  {
   "cell_type": "markdown",
   "metadata": {
    "id": "_fmTzieM97rP"
   },
   "source": [
    "## 5. Evaluate Alice's And Bob's Models (5 points)\n",
    "\n",
    "Implement the function `compute_accuracy` in `hw3.py`. \n",
    "\n",
    "This function computes the accuracy of a given (MAP) classifier on a (test) dataset.\n",
    "\n",
    "The code below applies this function to the two MAP classifiers you implemented based on Bob's and Allice's approaches on the same test data.\n",
    "It then plots the estiamted accuracy of each classifier in a bar plot."
   ]
  },
  {
   "cell_type": "code",
   "execution_count": null,
   "metadata": {
    "colab": {
     "base_uri": "https://localhost:8080/"
    },
    "executionInfo": {
     "elapsed": 401,
     "status": "ok",
     "timestamp": 1649238247985,
     "user": {
      "displayName": "Yarden Rachamim",
      "userId": "05474227465087296318"
     },
     "user_tz": -180
    },
    "id": "9Ihutafq97rP",
    "outputId": "9ba3c303-f2e1-44b5-f780-df7896cc5584"
   },
   "outputs": [],
   "source": [
    "from hw3 import compute_accuracy\n",
    "\n",
    "# Compute the accuracy of Bob's and Alice's models\n",
    "naive_accuracy = compute_accuracy(test_set, naive_normal_classifier)\n",
    "full_accuracy = compute_accuracy(test_set, multi_normal_classifier)\n",
    "naive_accuracy, full_accuracy\n",
    "\n",
    "# Bar plot of accuracy of each model side by side.\n",
    "plt.bar(x=['Naive', 'Full'], height=[naive_accuracy, full_accuracy])\n",
    "plt.title(\"Naive vs Full accuracy comparison\")\n",
    "plt.ylabel(\"Accuracy\")"
   ]
  },
  {
   "cell_type": "markdown",
   "metadata": {
    "id": "2TWhBD4997rV"
   },
   "source": [
    "## 6. A Discrete Naive Bayes Classifier (15 points)\n",
    "\n",
    "In this task, we will train a breast cancer predictor on the Breast Cancer Dataset described [here](https://archive.ics.uci.edu/ml/datasets/breast+cancer).\n",
    "The predictor will be based a naive Bayes classifier that uses *Laplace smoothing*.\n",
    "\n",
    "We start by loading the train and test data:"
   ]
  },
  {
   "cell_type": "code",
   "execution_count": null,
   "metadata": {},
   "outputs": [],
   "source": [
    "# Load the train and test set into a pandas dataframe and convert them into a numpy array.\n",
    "train_set = pd.read_csv('data/breast_trainset.csv').values\n",
    "test_set = pd.read_csv('data/breast_testset.csv').values"
   ]
  },
  {
   "cell_type": "markdown",
   "metadata": {
    "id": "fNv3VdNY97rW"
   },
   "source": [
    "Recall from the rectiation that the feature-specific class conditional probability in this model is estimated from the training data ($D$) using the formula\n",
    "\n",
    "$$ \\Pr[X_t=v | Y=j] = \\frac{n_{t,v,j} + 1}{n_j + |V_t|}~,$$\n",
    "where:\n",
    "* $n_{t,v,j}= \\{(x,y)\\in D\\ |\\ x_t=v\\ \\wedge\\ y=j\\}$.\n",
    "* $n_j = \\{(x,y)\\in D\\ |\\  y=j\\}$.\n",
    "* $V_t$ is the set of possible values for the $t$'th feature.\n",
    "\n",
    "The likelihood is computed using \n",
    "$$ P(x| Y=j) = \\prod\\limits_{t=1}^{p}\\Pr[X_t=x_t|Y=j]~. $$\n",
    "\n",
    "The predicted class is obtained by the MAP rule:\n",
    "$$\\arg\\!\\max\\limits_{j} \\{\\  \\pi_j \\cdot P(x | Y=j)\\ \\}~.$$\n"
   ]
  },
  {
   "cell_type": "markdown",
   "metadata": {
    "id": "TXzx4U0097rX"
   },
   "source": [
    "Implement the `DiscreteNBClassDistribution` class in `hw3.py`.\n",
    "\n",
    "This class is similar to the `NaiveNormalClassDistribution` class, in that its constructor receives a dataset and a class label,\n",
    "and it creates an object that can compute the joint probability of the specified class label with a given input ($x$).\n",
    "In this class, this is done by estimating the feautre-specific discrete class conditional probabilities, as described above.\n",
    "\n",
    "Similar to the `NaiveNormalClassDistribution` class, the class has three member functions,\n",
    "`get_prior`, `get_instance_likelihood`, and `get_instance_joint_prob`,\n",
    "which compute the various probabilities involved in classification of a given input sample.\n",
    "\n",
    "The code below fits discrete class coniditonals to the two class labels using the training set.\n",
    "It then uses these class conditionals to construct a `MAPClassifier` object and assess its accuracy on the test set."
   ]
  },
  {
   "cell_type": "code",
   "execution_count": null,
   "metadata": {
    "id": "uiJVXw5h97rY"
   },
   "outputs": [],
   "source": [
    "from hw3 import DiscreteNBClassDistribution\n",
    "\n",
    "# Build the a DiscreteNBClassDistribution for each class label\n",
    "discrete_naive_CD_0 = DiscreteNBClassDistribution(train_set, 0)\n",
    "discrete_naive_CD_1 = DiscreteNBClassDistribution(train_set, 1)\n",
    "\n",
    "# Use these distributions to build a MAPClassifier and compute its accuracy\n",
    "discrete_naive_classifier = MAPClassifier(discrete_naive_CD_0, discrete_naive_CD_1)\n",
    "discrete_naive_accuracy = compute_accuracy(test_set, discrete_naive_classifier)\n",
    "discrete_naive_accuracy"
   ]
  }
 ],
 "metadata": {
  "colab": {
   "collapsed_sections": [],
   "name": "ProbabilisticModels.ipynb",
   "provenance": [
    {
     "file_id": "1bCEDw-NC2JWZstuBhGlo7VcB188Ft2K5",
     "timestamp": 1649263512426
    }
   ]
  },
  "kernelspec": {
   "display_name": "mlp310",
   "language": "python",
   "name": "python3"
  },
  "language_info": {
   "codemirror_mode": {
    "name": "ipython",
    "version": 3
   },
   "file_extension": ".py",
   "mimetype": "text/x-python",
   "name": "python",
   "nbconvert_exporter": "python",
   "pygments_lexer": "ipython3",
   "version": "3.10.13"
  }
 },
 "nbformat": 4,
 "nbformat_minor": 1
}
